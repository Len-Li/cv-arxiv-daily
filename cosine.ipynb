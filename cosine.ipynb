{
 "cells": [
  {
   "cell_type": "code",
   "execution_count": null,
   "metadata": {},
   "outputs": [
    {
     "ename": "",
     "evalue": "",
     "output_type": "error",
     "traceback": [
      "\u001b[1;31m内核启动失败，因为无法加载 dll。\n",
      "\u001b[1;31m有关详细信息，请单击 <a href=\"https://aka.ms/kernelFailuresDllLoad\">此处</a>。"
     ]
    }
   ],
   "source": [
    "\n",
    "import matplotlib.pyplot as plt\n",
    "import numpy as np\n",
    "\n",
    "\n",
    "def tanh(x):\n",
    "    s1 = np.exp(x) - np.exp(-x)\n",
    "    s2 = np.exp(x) + np.exp(-x)\n",
    "    s = s1 / s2\n",
    "    return s\n",
    "\n",
    "\n",
    "x = np.linspace(-5, 5, num=256)\n",
    "\n",
    "y = tanh(x)\n",
    "\n",
    "plt.plot(x, y)\n",
    "plt.show()\n"
   ]
  }
 ],
 "metadata": {
  "kernelspec": {
   "display_name": "base",
   "language": "python",
   "name": "python3"
  },
  "language_info": {
   "name": "python",
   "version": "3.9.12"
  }
 },
 "nbformat": 4,
 "nbformat_minor": 2
}
